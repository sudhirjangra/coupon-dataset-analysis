{
 "cells": [
  {
   "attachments": {},
   "cell_type": "markdown",
   "id": "073a7949-4023-4a58-b8f2-06b5ec969121",
   "metadata": {},
   "source": [
    "- `Gender:` Female, Male\n",
    "- `Age:` 21, 46, 26, 31, 41, 50plus, 36, below21\n",
    "- `Marital Status:` Unmarried partner, Single, Married partner, Divorced, Widowed\n",
    "- `has_Children:` 1: has children, 0: No children\n",
    "- `Education:` Some colleges — no degree, bachelor’s degree, Associates degree, High School Graduate, Graduate degree (Master or Doctorate), Some High School\n",
    "- `Occupation:` Traveller’s occupation \n",
    "- `Income:` income of the traveler\n",
    "- `Car:` Description of vehicle driven by the traveller\n",
    "- `Bar:` how many times does the traveler go to a bar every month?\n",
    "- `Coffee House:` how many times does the user go to a coffeehouse every month?\n",
    "- `Carry Away:` how many times does the user get takeaway food every month?\n",
    "- `RestaurantLessThan20:` how many times does the user go to a restaurant with an average expense per person of less than `$20` every month\n",
    "- `Restaurant20To50:` how many times does the user go to a restaurant with an average expense per person of $20 — $50 every month\n",
    "- `Destination:` destination of traveler\n",
    "- `Passenger:` who are the passengers in the car\n",
    "- `Weather:` weather when the user is driving (Sunny, Rainy, Snowy)\n",
    "- `Temperature:` temperature in Fahrenheit when the user is driving\n",
    "- `Cupon:` Type of Cupon\n",
    "- `Expiration:` Validity of Cupon\n",
    "- `toCoupon_GEQ5min:` driving distance to the restaurant/cafe/bar for using the coupon is greater than 5 minutes (0,1)\n",
    "- `toCoupon_GEQ15min:` driving distance to the restaurant/cafe/bar for using the coupon is greater than 15 minutes (0,1)\n",
    "- `toCoupon_GEQ25min:` driving distance to the restaurant/cafe/bar for using the coupon is greater than 25 minutes (0,1)\n",
    "- `direction_same:` whether the restaurant/cafe/bar is in the same direction as the traveler’s current destination (0,1)\n",
    "- `direction_opp:` whether the restaurant/cafe/bar is in the opposite direction as the user’s current destination (0,1)\n",
    "- `Accept(Y/N?)-` Target column( whether user will accept the coupon or not?)\n",
    "\n"
   ]
  },
  {
   "cell_type": "code",
   "execution_count": null,
   "id": "24021a03-e657-4948-aa1b-08e5290a2973",
   "metadata": {},
   "outputs": [],
   "source": []
  }
 ],
 "metadata": {
  "kernelspec": {
   "display_name": "Python 3 (ipykernel)",
   "language": "python",
   "name": "python3"
  },
  "language_info": {
   "codemirror_mode": {
    "name": "ipython",
    "version": 3
   },
   "file_extension": ".py",
   "mimetype": "text/x-python",
   "name": "python",
   "nbconvert_exporter": "python",
   "pygments_lexer": "ipython3",
   "version": "3.13.5"
  },
  "widgets": {
   "application/vnd.jupyter.widget-state+json": {
    "state": {},
    "version_major": 2,
    "version_minor": 0
   }
  }
 },
 "nbformat": 4,
 "nbformat_minor": 5
}
