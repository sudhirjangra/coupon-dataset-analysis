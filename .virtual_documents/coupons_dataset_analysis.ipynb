











import numpy as np
import pandas as pd
import seaborn as sns
import matplotlib.pyplot as plt
import plotly.express as px
from sklearn.impute import SimpleImputer 
# import plotly.graph_objects as go
# from plotly.subplots import make_subplots





df = pd.read_csv('DS_DATA.csv')








df.shape





df.info()





df.sample(5)





print(df.isnull().mean().mul(100).map("{:.2f}%".format))





df.drop(columns='car', inplace=True)





si = SimpleImputer(strategy='most_frequent')
cols = ['Bar','CoffeeHouse','CarryAway','RestaurantLessThan20','Restaurant20To50']
df[cols] = si.fit(df[cols])





df.loc[df.duplicated()]





# we have 291 duplicate values, we are dropping them
df.drop_duplicates(inplace=True)
df.duplicated().sum()





df.describe()





cate_cols = df.columns[df.dtypes=='object'].tolist()
num_cols = df.columns[df.dtypes=='int64'].tolist()
print(f'Categorical Columns: {cate_cols}"\n\n",Numeric Columns: {num_cols}')


df.sample(5)


# Categorical-Columns: ['destination', 'passanger', 'weather', 'coupon', 'expiration', 'gender', 'age', 'maritalStatus', 
# 'education', 'occupation', 'income', 'car', 'Bar', 'CoffeeHouse', 'CarryAway', 'RestaurantLessThan20', 'Restaurant20To50']
fig = px.pie(df, names='destination', title='Destination')
fig.show()
fig = px.histogram(df, x='passanger')
fig.show()
fig = px.pie(df, names='weather', title='Weather')
fig.show()
fig = px.histogram(df, x='coupon')
fig.show()
fig = px.pie(df, names='maritalStatus', title='maritalStatus')
fig.show()





# Numeric Columns: ['temperature', 'has_children', 'toCoupon_GEQ5min', 'toCoupon_GEQ15min', 'toCoupon_GEQ25min', 'direction_same',
# 'direction_opp', 'Accept(Y/N?)']
fig = px.histogram(df, x='temperature', nbins=3)
fig.show()
fig = px.histogram(df, x='has_children', nbins=3)
fig.show()
fig = px.histogram(df, x='toCoupon_GEQ15min', nbins=3)
fig.show()
fig = px.histogram(df, x='toCoupon_GEQ25min', nbins=3)
fig.show()
fig = px.histogram(df, x='direction_same', nbins=3)
fig.show()
fig = px.histogram(df, x='direction_opp', nbins=3)
fig.show()
fig = px.histogram(df, x='Accept(Y/N?)', nbins=3)
fig.show()

sns.kdeplot(df['temperature'])
plt.show()


sns.heatmap(df.corr(numeric_only=True),annot=True)
plt.show()


sns.pairplot(df)
plt.show()


list = df.columns.tolist()
list


numeric_cols = df.select_dtypes(include=['int64', 'float64']).columns

for col in numeric_cols:
    Q1 = df[col].quantile(0.25)
    Q3 = df[col].quantile(0.75)
    IQR = Q3 - Q1
    lower_limit = Q1 - 1.5 * IQR
    upper_limit = Q3 + 1.5 * IQR
    outlier_count = df[(df[col] < lower_limit) | (df[col] > upper_limit)].shape[0]
    total_count = df.shape[0]
    outlier_percentage = (outlier_count / total_count) * 100
    print(f"{col}: {outlier_percentage:.2f}% outliers")


sns.boxplot(df['toCoupon_GEQ25min'])


sns.boxplot(df['direction_same'])


sns.boxplot(df['direction_opp'])


# since toCoupon_GEQ25min has 11.81%, direction_same has 21.47%, direction_opp 21.47% outliers, we are dropping them


df.drop(columns=['toCoupon_GEQ25min','direction_same','direction_opp'], inplace=True)



